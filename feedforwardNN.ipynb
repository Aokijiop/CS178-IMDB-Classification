{
 "cells": [
  {
   "cell_type": "code",
   "execution_count": 2,
   "metadata": {
    "collapsed": true
   },
   "outputs": [],
   "source": [
    "import warnings\n",
    "\n",
    "# Imports\n",
    "import pandas as pd\n",
    "import numpy as np\n",
    "from datasets import load_dataset\n",
    "import nltk"
   ]
  },
  {
   "cell_type": "code",
   "execution_count": 3,
   "outputs": [],
   "source": [
    "dataset = load_dataset(\"stanfordnlp/imdb\")"
   ],
   "metadata": {
    "collapsed": false
   }
  },
  {
   "cell_type": "code",
   "execution_count": 4,
   "outputs": [
    {
     "data": {
      "text/plain": "                                                    text  label\n0      I rented I AM CURIOUS-YELLOW from my video sto...      0\n1      \"I Am Curious: Yellow\" is a risible and preten...      0\n2      If only to avoid making this type of film in t...      0\n3      This film was probably inspired by Godard's Ma...      0\n4      Oh, brother...after hearing about this ridicul...      0\n...                                                  ...    ...\n24995  A hit at the time but now better categorised a...      1\n24996  I love this movie like no other. Another time ...      1\n24997  This film and it's sequel Barry Mckenzie holds...      1\n24998  'The Adventures Of Barry McKenzie' started lif...      1\n24999  The story centers around Barry McKenzie who mu...      1\n\n[25000 rows x 2 columns]",
      "text/html": "<div>\n<style scoped>\n    .dataframe tbody tr th:only-of-type {\n        vertical-align: middle;\n    }\n\n    .dataframe tbody tr th {\n        vertical-align: top;\n    }\n\n    .dataframe thead th {\n        text-align: right;\n    }\n</style>\n<table border=\"1\" class=\"dataframe\">\n  <thead>\n    <tr style=\"text-align: right;\">\n      <th></th>\n      <th>text</th>\n      <th>label</th>\n    </tr>\n  </thead>\n  <tbody>\n    <tr>\n      <th>0</th>\n      <td>I rented I AM CURIOUS-YELLOW from my video sto...</td>\n      <td>0</td>\n    </tr>\n    <tr>\n      <th>1</th>\n      <td>\"I Am Curious: Yellow\" is a risible and preten...</td>\n      <td>0</td>\n    </tr>\n    <tr>\n      <th>2</th>\n      <td>If only to avoid making this type of film in t...</td>\n      <td>0</td>\n    </tr>\n    <tr>\n      <th>3</th>\n      <td>This film was probably inspired by Godard's Ma...</td>\n      <td>0</td>\n    </tr>\n    <tr>\n      <th>4</th>\n      <td>Oh, brother...after hearing about this ridicul...</td>\n      <td>0</td>\n    </tr>\n    <tr>\n      <th>...</th>\n      <td>...</td>\n      <td>...</td>\n    </tr>\n    <tr>\n      <th>24995</th>\n      <td>A hit at the time but now better categorised a...</td>\n      <td>1</td>\n    </tr>\n    <tr>\n      <th>24996</th>\n      <td>I love this movie like no other. Another time ...</td>\n      <td>1</td>\n    </tr>\n    <tr>\n      <th>24997</th>\n      <td>This film and it's sequel Barry Mckenzie holds...</td>\n      <td>1</td>\n    </tr>\n    <tr>\n      <th>24998</th>\n      <td>'The Adventures Of Barry McKenzie' started lif...</td>\n      <td>1</td>\n    </tr>\n    <tr>\n      <th>24999</th>\n      <td>The story centers around Barry McKenzie who mu...</td>\n      <td>1</td>\n    </tr>\n  </tbody>\n</table>\n<p>25000 rows × 2 columns</p>\n</div>"
     },
     "execution_count": 4,
     "metadata": {},
     "output_type": "execute_result"
    }
   ],
   "source": [
    "df_train = pd.DataFrame(dataset['train'])\n",
    "df_train"
   ],
   "metadata": {
    "collapsed": false
   }
  },
  {
   "cell_type": "code",
   "execution_count": 5,
   "outputs": [
    {
     "data": {
      "text/plain": "<25000x74849 sparse matrix of type '<class 'numpy.int64'>'\n\twith 3445861 stored elements in Compressed Sparse Row format>"
     },
     "execution_count": 5,
     "metadata": {},
     "output_type": "execute_result"
    }
   ],
   "source": [
    "from sklearn.feature_extraction.text import CountVectorizer\n",
    "sentences = [text for text in df_train['text']]\n",
    "countVectorizer = CountVectorizer()\n",
    "X_test = countVectorizer.fit_transform(sentences)\n",
    "X_test"
   ],
   "metadata": {
    "collapsed": false
   }
  },
  {
   "cell_type": "code",
   "execution_count": 6,
   "outputs": [
    {
     "data": {
      "text/plain": "array([0, 0, 0, ..., 1, 1, 1], dtype=int64)"
     },
     "execution_count": 6,
     "metadata": {},
     "output_type": "execute_result"
    }
   ],
   "source": [
    "Y_test = np.array(df_train['label'])\n",
    "Y_test"
   ],
   "metadata": {
    "collapsed": false
   }
  },
  {
   "cell_type": "code",
   "execution_count": 7,
   "outputs": [],
   "source": [
    "# MLP classifier\n",
    "from sklearn.neural_network import MLPClassifier\n",
    "from sklearn.metrics import accuracy_score\n",
    "from sklearn.model_selection import GridSearchCV\n",
    "warnings.filterwarnings('ignore')\n",
    "seed = 1234"
   ],
   "metadata": {
    "collapsed": false
   }
  },
  {
   "cell_type": "code",
   "execution_count": null,
   "outputs": [
    {
     "name": "stdout",
     "output_type": "stream",
     "text": [
      "Running...\n"
     ]
    },
    {
     "name": "stderr",
     "output_type": "stream",
     "text": [
      "C:\\Users\\jerem\\UniversityClassProjects\\CS178\\venv\\hw1-anaconda\\lib\\site-packages\\sklearn\\neural_network\\_multilayer_perceptron.py:609: UserWarning: Got `batch_size` less than 1 or larger than sample size. It is going to be clipped\n",
      "  warnings.warn(\n",
      "C:\\Users\\jerem\\UniversityClassProjects\\CS178\\venv\\hw1-anaconda\\lib\\site-packages\\sklearn\\neural_network\\_multilayer_perceptron.py:609: UserWarning: Got `batch_size` less than 1 or larger than sample size. It is going to be clipped\n",
      "  warnings.warn(\n",
      "C:\\Users\\jerem\\UniversityClassProjects\\CS178\\venv\\hw1-anaconda\\lib\\site-packages\\sklearn\\neural_network\\_multilayer_perceptron.py:609: UserWarning: Got `batch_size` less than 1 or larger than sample size. It is going to be clipped\n",
      "  warnings.warn(\n",
      "C:\\Users\\jerem\\UniversityClassProjects\\CS178\\venv\\hw1-anaconda\\lib\\site-packages\\sklearn\\neural_network\\_multilayer_perceptron.py:609: UserWarning: Got `batch_size` less than 1 or larger than sample size. It is going to be clipped\n",
      "  warnings.warn(\n",
      "C:\\Users\\jerem\\UniversityClassProjects\\CS178\\venv\\hw1-anaconda\\lib\\site-packages\\sklearn\\neural_network\\_multilayer_perceptron.py:609: UserWarning: Got `batch_size` less than 1 or larger than sample size. It is going to be clipped\n",
      "  warnings.warn(\n",
      "C:\\Users\\jerem\\UniversityClassProjects\\CS178\\venv\\hw1-anaconda\\lib\\site-packages\\sklearn\\neural_network\\_multilayer_perceptron.py:609: UserWarning: Got `batch_size` less than 1 or larger than sample size. It is going to be clipped\n",
      "  warnings.warn(\n",
      "C:\\Users\\jerem\\UniversityClassProjects\\CS178\\venv\\hw1-anaconda\\lib\\site-packages\\sklearn\\neural_network\\_multilayer_perceptron.py:609: UserWarning: Got `batch_size` less than 1 or larger than sample size. It is going to be clipped\n",
      "  warnings.warn(\n",
      "C:\\Users\\jerem\\UniversityClassProjects\\CS178\\venv\\hw1-anaconda\\lib\\site-packages\\sklearn\\neural_network\\_multilayer_perceptron.py:609: UserWarning: Got `batch_size` less than 1 or larger than sample size. It is going to be clipped\n",
      "  warnings.warn(\n",
      "C:\\Users\\jerem\\UniversityClassProjects\\CS178\\venv\\hw1-anaconda\\lib\\site-packages\\sklearn\\neural_network\\_multilayer_perceptron.py:609: UserWarning: Got `batch_size` less than 1 or larger than sample size. It is going to be clipped\n",
      "  warnings.warn(\n",
      "C:\\Users\\jerem\\UniversityClassProjects\\CS178\\venv\\hw1-anaconda\\lib\\site-packages\\sklearn\\neural_network\\_multilayer_perceptron.py:609: UserWarning: Got `batch_size` less than 1 or larger than sample size. It is going to be clipped\n",
      "  warnings.warn(\n",
      "C:\\Users\\jerem\\UniversityClassProjects\\CS178\\venv\\hw1-anaconda\\lib\\site-packages\\sklearn\\neural_network\\_multilayer_perceptron.py:609: UserWarning: Got `batch_size` less than 1 or larger than sample size. It is going to be clipped\n",
      "  warnings.warn(\n",
      "C:\\Users\\jerem\\UniversityClassProjects\\CS178\\venv\\hw1-anaconda\\lib\\site-packages\\sklearn\\neural_network\\_multilayer_perceptron.py:609: UserWarning: Got `batch_size` less than 1 or larger than sample size. It is going to be clipped\n",
      "  warnings.warn(\n",
      "C:\\Users\\jerem\\UniversityClassProjects\\CS178\\venv\\hw1-anaconda\\lib\\site-packages\\sklearn\\neural_network\\_multilayer_perceptron.py:609: UserWarning: Got `batch_size` less than 1 or larger than sample size. It is going to be clipped\n",
      "  warnings.warn(\n",
      "C:\\Users\\jerem\\UniversityClassProjects\\CS178\\venv\\hw1-anaconda\\lib\\site-packages\\sklearn\\neural_network\\_multilayer_perceptron.py:609: UserWarning: Got `batch_size` less than 1 or larger than sample size. It is going to be clipped\n",
      "  warnings.warn(\n",
      "C:\\Users\\jerem\\UniversityClassProjects\\CS178\\venv\\hw1-anaconda\\lib\\site-packages\\sklearn\\neural_network\\_multilayer_perceptron.py:609: UserWarning: Got `batch_size` less than 1 or larger than sample size. It is going to be clipped\n",
      "  warnings.warn(\n",
      "C:\\Users\\jerem\\UniversityClassProjects\\CS178\\venv\\hw1-anaconda\\lib\\site-packages\\sklearn\\neural_network\\_multilayer_perceptron.py:609: UserWarning: Got `batch_size` less than 1 or larger than sample size. It is going to be clipped\n",
      "  warnings.warn(\n",
      "C:\\Users\\jerem\\UniversityClassProjects\\CS178\\venv\\hw1-anaconda\\lib\\site-packages\\sklearn\\neural_network\\_multilayer_perceptron.py:609: UserWarning: Got `batch_size` less than 1 or larger than sample size. It is going to be clipped\n",
      "  warnings.warn(\n",
      "C:\\Users\\jerem\\UniversityClassProjects\\CS178\\venv\\hw1-anaconda\\lib\\site-packages\\sklearn\\neural_network\\_multilayer_perceptron.py:609: UserWarning: Got `batch_size` less than 1 or larger than sample size. It is going to be clipped\n",
      "  warnings.warn(\n",
      "C:\\Users\\jerem\\UniversityClassProjects\\CS178\\venv\\hw1-anaconda\\lib\\site-packages\\sklearn\\neural_network\\_multilayer_perceptron.py:609: UserWarning: Got `batch_size` less than 1 or larger than sample size. It is going to be clipped\n",
      "  warnings.warn(\n",
      "C:\\Users\\jerem\\UniversityClassProjects\\CS178\\venv\\hw1-anaconda\\lib\\site-packages\\sklearn\\neural_network\\_multilayer_perceptron.py:609: UserWarning: Got `batch_size` less than 1 or larger than sample size. It is going to be clipped\n",
      "  warnings.warn(\n",
      "C:\\Users\\jerem\\UniversityClassProjects\\CS178\\venv\\hw1-anaconda\\lib\\site-packages\\sklearn\\neural_network\\_multilayer_perceptron.py:609: UserWarning: Got `batch_size` less than 1 or larger than sample size. It is going to be clipped\n",
      "  warnings.warn(\n",
      "C:\\Users\\jerem\\UniversityClassProjects\\CS178\\venv\\hw1-anaconda\\lib\\site-packages\\sklearn\\neural_network\\_multilayer_perceptron.py:609: UserWarning: Got `batch_size` less than 1 or larger than sample size. It is going to be clipped\n",
      "  warnings.warn(\n",
      "C:\\Users\\jerem\\UniversityClassProjects\\CS178\\venv\\hw1-anaconda\\lib\\site-packages\\sklearn\\neural_network\\_multilayer_perceptron.py:609: UserWarning: Got `batch_size` less than 1 or larger than sample size. It is going to be clipped\n",
      "  warnings.warn(\n",
      "C:\\Users\\jerem\\UniversityClassProjects\\CS178\\venv\\hw1-anaconda\\lib\\site-packages\\sklearn\\neural_network\\_multilayer_perceptron.py:609: UserWarning: Got `batch_size` less than 1 or larger than sample size. It is going to be clipped\n",
      "  warnings.warn(\n",
      "C:\\Users\\jerem\\UniversityClassProjects\\CS178\\venv\\hw1-anaconda\\lib\\site-packages\\sklearn\\neural_network\\_multilayer_perceptron.py:609: UserWarning: Got `batch_size` less than 1 or larger than sample size. It is going to be clipped\n",
      "  warnings.warn(\n",
      "C:\\Users\\jerem\\UniversityClassProjects\\CS178\\venv\\hw1-anaconda\\lib\\site-packages\\sklearn\\neural_network\\_multilayer_perceptron.py:609: UserWarning: Got `batch_size` less than 1 or larger than sample size. It is going to be clipped\n",
      "  warnings.warn(\n",
      "C:\\Users\\jerem\\UniversityClassProjects\\CS178\\venv\\hw1-anaconda\\lib\\site-packages\\sklearn\\neural_network\\_multilayer_perceptron.py:609: UserWarning: Got `batch_size` less than 1 or larger than sample size. It is going to be clipped\n",
      "  warnings.warn(\n",
      "C:\\Users\\jerem\\UniversityClassProjects\\CS178\\venv\\hw1-anaconda\\lib\\site-packages\\sklearn\\neural_network\\_multilayer_perceptron.py:609: UserWarning: Got `batch_size` less than 1 or larger than sample size. It is going to be clipped\n",
      "  warnings.warn(\n",
      "C:\\Users\\jerem\\UniversityClassProjects\\CS178\\venv\\hw1-anaconda\\lib\\site-packages\\sklearn\\neural_network\\_multilayer_perceptron.py:609: UserWarning: Got `batch_size` less than 1 or larger than sample size. It is going to be clipped\n",
      "  warnings.warn(\n",
      "C:\\Users\\jerem\\UniversityClassProjects\\CS178\\venv\\hw1-anaconda\\lib\\site-packages\\sklearn\\neural_network\\_multilayer_perceptron.py:609: UserWarning: Got `batch_size` less than 1 or larger than sample size. It is going to be clipped\n",
      "  warnings.warn(\n",
      "C:\\Users\\jerem\\UniversityClassProjects\\CS178\\venv\\hw1-anaconda\\lib\\site-packages\\sklearn\\neural_network\\_multilayer_perceptron.py:609: UserWarning: Got `batch_size` less than 1 or larger than sample size. It is going to be clipped\n",
      "  warnings.warn(\n",
      "C:\\Users\\jerem\\UniversityClassProjects\\CS178\\venv\\hw1-anaconda\\lib\\site-packages\\sklearn\\neural_network\\_multilayer_perceptron.py:609: UserWarning: Got `batch_size` less than 1 or larger than sample size. It is going to be clipped\n",
      "  warnings.warn(\n",
      "C:\\Users\\jerem\\UniversityClassProjects\\CS178\\venv\\hw1-anaconda\\lib\\site-packages\\sklearn\\neural_network\\_multilayer_perceptron.py:609: UserWarning: Got `batch_size` less than 1 or larger than sample size. It is going to be clipped\n",
      "  warnings.warn(\n",
      "C:\\Users\\jerem\\UniversityClassProjects\\CS178\\venv\\hw1-anaconda\\lib\\site-packages\\sklearn\\neural_network\\_multilayer_perceptron.py:609: UserWarning: Got `batch_size` less than 1 or larger than sample size. It is going to be clipped\n",
      "  warnings.warn(\n",
      "C:\\Users\\jerem\\UniversityClassProjects\\CS178\\venv\\hw1-anaconda\\lib\\site-packages\\sklearn\\neural_network\\_multilayer_perceptron.py:609: UserWarning: Got `batch_size` less than 1 or larger than sample size. It is going to be clipped\n",
      "  warnings.warn(\n",
      "C:\\Users\\jerem\\UniversityClassProjects\\CS178\\venv\\hw1-anaconda\\lib\\site-packages\\sklearn\\neural_network\\_multilayer_perceptron.py:609: UserWarning: Got `batch_size` less than 1 or larger than sample size. It is going to be clipped\n",
      "  warnings.warn(\n",
      "C:\\Users\\jerem\\UniversityClassProjects\\CS178\\venv\\hw1-anaconda\\lib\\site-packages\\sklearn\\neural_network\\_multilayer_perceptron.py:609: UserWarning: Got `batch_size` less than 1 or larger than sample size. It is going to be clipped\n",
      "  warnings.warn(\n",
      "C:\\Users\\jerem\\UniversityClassProjects\\CS178\\venv\\hw1-anaconda\\lib\\site-packages\\sklearn\\neural_network\\_multilayer_perceptron.py:609: UserWarning: Got `batch_size` less than 1 or larger than sample size. It is going to be clipped\n",
      "  warnings.warn(\n"
     ]
    }
   ],
   "source": [
    "params = {\n",
    "    \"hidden_layer_sizes\": np.arange(10, 250, 10),\n",
    "    \"activation\": ['identity', 'logistic', 'tanh', 'relu'],\n",
    "    \"solver\": ['lbfgs', 'sgd', 'adam'],\n",
    "    \"alpha\": np.arange(0.01, 0.2, 0.02),\n",
    "    \"batch_size\": np.arange(50, 201, 25),\n",
    "    \"learning_rate\": ['constant', 'invscaling', 'adaptive'],\n",
    "    \"learning_rate_init\": np.arange(0.001, 0.011, 0.001),\n",
    "    \"max_iter\": np.arange(100, 301, 25),\n",
    "    \"random_state\": [seed]\n",
    "}\n",
    "mlp = MLPClassifier()\n",
    "clf = GridSearchCV(mlp, param_grid = params)\n",
    "print(\"Running...\")\n",
    "clf.fit(X_test[:10], Y_test[:10])\n",
    "print(\"Finished\")"
   ],
   "metadata": {
    "collapsed": false,
    "pycharm": {
     "is_executing": true
    }
   }
  },
  {
   "cell_type": "code",
   "execution_count": null,
   "outputs": [],
   "source": [],
   "metadata": {
    "collapsed": false
   }
  }
 ],
 "metadata": {
  "kernelspec": {
   "display_name": "Python 3",
   "language": "python",
   "name": "python3"
  },
  "language_info": {
   "codemirror_mode": {
    "name": "ipython",
    "version": 2
   },
   "file_extension": ".py",
   "mimetype": "text/x-python",
   "name": "python",
   "nbconvert_exporter": "python",
   "pygments_lexer": "ipython2",
   "version": "2.7.6"
  }
 },
 "nbformat": 4,
 "nbformat_minor": 0
}
