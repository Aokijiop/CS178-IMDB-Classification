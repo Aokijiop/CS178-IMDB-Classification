{
 "cells": [
  {
   "cell_type": "code",
   "execution_count": 21,
   "id": "72229c63-7f55-4d10-9d21-807a16ad6799",
   "metadata": {},
   "outputs": [],
   "source": [
    "# Importing modules\n",
    "import numpy as np\n",
    "import matplotlib.pyplot as plt\n",
    "import scipy\n",
    "from sklearn.datasets import fetch_openml\n",
    "from sklearn.model_selection import train_test_split\n",
    "from sklearn.preprocessing import StandardScaler\n",
    "from datasets import load_dataset\n",
    "from gensim.models import Word2Vec\n",
    "from sklearn.linear_model import LogisticRegression\n",
    "from sklearn.neural_network import MLPClassifier\n",
    "from typing import Tuple\n",
    "from sklearn.metrics import accuracy_score\n",
    "from sklearn.model_selection import GridSearchCV\n",
    "\n",
    "import warnings\n",
    "warnings.filterwarnings('ignore')\n",
    "\n",
    "# Fix the random seed for reproducibility\n",
    "# !! Important !! : do not change this\n",
    "seed = 1234\n",
    "np.random.seed(seed) "
   ]
  },
  {
   "cell_type": "code",
   "execution_count": 22,
   "id": "52681f12-3473-4f9c-96bf-2267e4149605",
   "metadata": {},
   "outputs": [],
   "source": [
    "# Load dataset once\n",
    "imdb_dataset = load_dataset(\"imdb\")"
   ]
  },
  {
   "cell_type": "code",
   "execution_count": null,
   "id": "3f319d53-128a-45c8-b109-f7914e6cbbfe",
   "metadata": {},
   "outputs": [],
   "source": [
    "# Preprocess the data\n",
    "def preprocess(text):\n",
    "    return text.lower().split()\n",
    "\n",
    "train_sentences = [preprocess(text) for text in imdb_dataset['train']['text']]\n",
    "test_sentences = [preprocess(text) for text in imdb_dataset['test']['text']]\n",
    "\n",
    "# Train Word2Vec model\n",
    "w2v_model = Word2Vec(sentences=train_sentences, vector_size=100, window=5, min_count=1, workers=4)\n",
    "\n",
    "# Vectorize the sentences\n",
    "def vectorize_sentences(sentences, model, vector_size):\n",
    "    vectors = []\n",
    "    for sentence in sentences:\n",
    "        sentence_vec = np.zeros(vector_size)\n",
    "        for word in sentence:\n",
    "            if word in model.wv:\n",
    "                sentence_vec += model.wv[word]\n",
    "        vectors.append(sentence_vec / len(sentence))\n",
    "    return np.array(vectors)\n",
    "\n",
    "X_train = vectorize_sentences(train_sentences, w2v_model, 100)\n",
    "X_test = vectorize_sentences(test_sentences, w2v_model, 100)\n",
    "\n",
    "# Standardize the data\n",
    "scaler = StandardScaler()\n",
    "X_train = scaler.fit_transform(X_train)\n",
    "X_test = scaler.transform(X_test)\n",
    "\n",
    "# Inspect the shape of the transformed data\n",
    "print(f\"Train data shape: {X_train.shape}\")\n",
    "print(f\"Test data shape: {X_test.shape}\")"
   ]
  },
  {
   "cell_type": "code",
   "execution_count": null,
   "id": "d06578b9-4ab1-477d-8fce-d4207cc2dfdc",
   "metadata": {},
   "outputs": [],
   "source": [
    "# Standardize the data\n",
    "scaler = StandardScaler()\n",
    "X_train = scaler.fit_transform(X_train)\n",
    "X_test = scaler.transform(X_test)\n",
    "\n",
    "# Extract labels\n",
    "y_train = imdb_dataset['train']['label']\n",
    "y_test = imdb_dataset['test']['label']\n",
    "\n",
    "param_grid = {\n",
    "    'C': [0.001, 0.01, 0.1, 1, 10, 100],\n",
    "    'solver': ['liblinear', 'saga'],\n",
    "    'max_iter': [100, 200, 300]\n",
    "}\n",
    "\n",
    "# Initialize the Logistic Regression model\n",
    "classifier = LogisticRegression()\n",
    "\n",
    "grid_search = GridSearchCV(classifier, param_grid, cv=5, scoring='accuracy')\n",
    "grid_search.fit(X_train, y_train)  # X_train and y_train need to be predefined with your data\n",
    "\n",
    "print(\"Best parameters:\", grid_search.best_params_)\n",
    "print(\"Best cross-validation score: {:.2f}\".format(grid_search.best_score_))\n"
   ]
  },
  {
   "cell_type": "code",
   "execution_count": 15,
   "id": "671a5013-1de4-4a94-a619-5caf4941d98d",
   "metadata": {},
   "outputs": [
    {
     "name": "stdout",
     "output_type": "stream",
     "text": [
      "Accuracy: 0.7720\n"
     ]
    }
   ],
   "source": [
    "# Fit the model on the training data\n",
    "classifier.fit(X_train, y_train)\n",
    "\n",
    "# Predict on the test data\n",
    "y_pred = classifier.predict(X_test)\n",
    "\n",
    "# Calculate accuracy\n",
    "accuracy = accuracy_score(y_test, y_pred)\n",
    "\n",
    "print(f\"Accuracy: {accuracy:.4f}\")"
   ]
  },
  {
   "cell_type": "code",
   "execution_count": null,
   "id": "d0e21745-aec5-496e-8a70-1107e51ccc23",
   "metadata": {},
   "outputs": [],
   "source": []
  }
 ],
 "metadata": {
  "kernelspec": {
   "display_name": "Python 3 (ipykernel)",
   "language": "python",
   "name": "python3"
  },
  "language_info": {
   "codemirror_mode": {
    "name": "ipython",
    "version": 3
   },
   "file_extension": ".py",
   "mimetype": "text/x-python",
   "name": "python",
   "nbconvert_exporter": "python",
   "pygments_lexer": "ipython3",
   "version": "3.10.14"
  }
 },
 "nbformat": 4,
 "nbformat_minor": 5
}
